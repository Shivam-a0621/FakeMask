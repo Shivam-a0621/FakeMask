{
 "cells": [
  {
   "cell_type": "code",
   "execution_count": 1,
   "metadata": {},
   "outputs": [
    {
     "name": "stderr",
     "output_type": "stream",
     "text": [
      "C:\\Users\\bhard\\AppData\\Roaming\\Python\\Python39\\site-packages\\matplotlib\\projections\\__init__.py:63: UserWarning: Unable to import Axes3D. This may be due to multiple versions of Matplotlib being installed (e.g. as a system package and as a pip package). As a result, the 3D projection is not available.\n",
      "  warnings.warn(\"Unable to import Axes3D. This may be due to multiple versions of \"\n"
     ]
    }
   ],
   "source": [
    "import mediapipe as mp\n",
    "import numpy as np\n",
    "import cv2\n",
    "\n"
   ]
  },
  {
   "cell_type": "code",
   "execution_count": 2,
   "metadata": {},
   "outputs": [],
   "source": [
    "mp_face_mesh = mp.solutions.face_mesh\n",
    "\n",
    "mp_drawing = mp.solutions.drawing_utils\n",
    "mp_drawing_styles = mp.solutions.drawing_styles"
   ]
  },
  {
   "cell_type": "code",
   "execution_count": 3,
   "metadata": {},
   "outputs": [],
   "source": [
    "img_source = \"elon_musk_royal_society.jpg\""
   ]
  },
  {
   "cell_type": "code",
   "execution_count": 6,
   "metadata": {},
   "outputs": [],
   "source": [
    "img = cv2.imread(img_source)\n",
    "cv2.namedWindow(\"Diaplay Image\", cv2.WINDOW_NORMAL)\n",
    "cv2.resizeWindow(\"Diaplay Image\", 200,400)\n",
    "cv2.imshow(\"img\",img)\n",
    "cv2.waitKey(0)\n",
    "cv2.destroyAllWindows()\n",
    "\n"
   ]
  },
  {
   "cell_type": "code",
   "execution_count": 4,
   "metadata": {},
   "outputs": [],
   "source": [
    "drawing_spec = mp_drawing.DrawingSpec(thickness=1, circle_radius=1)"
   ]
  },
  {
   "cell_type": "code",
   "execution_count": 5,
   "metadata": {},
   "outputs": [
    {
     "name": "stderr",
     "output_type": "stream",
     "text": [
      "C:\\Users\\bhard\\AppData\\Roaming\\Python\\Python39\\site-packages\\google\\protobuf\\symbol_database.py:55: UserWarning: SymbolDatabase.GetPrototype() is deprecated. Please use message_factory.GetMessageClass() instead. SymbolDatabase.GetPrototype() will be removed soon.\n",
      "  warnings.warn('SymbolDatabase.GetPrototype() is deprecated. Please '\n"
     ]
    }
   ],
   "source": [
    "cap = cv2.VideoCapture(0)\n",
    "with mp_face_mesh.FaceMesh(\n",
    "    max_num_faces=1,\n",
    "    refine_landmarks=True,\n",
    "    min_detection_confidence=0.5,\n",
    "    min_tracking_confidence=0.5) as face_mesh:\n",
    "  while cap.isOpened():\n",
    "      success, image = cap.read()\n",
    "      if not success:\n",
    "        print(\"Ignoring empty camera frame.\")\n",
    "       \n",
    "        continue\n",
    "\n",
    "      \n",
    "      image.flags.writeable = False\n",
    "      image = cv2.cvtColor(image, cv2.COLOR_BGR2RGB)\n",
    "      results = face_mesh.process(image)\n",
    "\n",
    "      \n",
    "      image.flags.writeable = True\n",
    "      image = cv2.cvtColor(image, cv2.COLOR_RGB2BGR)\n",
    "      if results.multi_face_landmarks:\n",
    "        for face_landmarks in results.multi_face_landmarks:\n",
    "          mp_drawing.draw_landmarks(\n",
    "              image=image,\n",
    "              landmark_list=face_landmarks,\n",
    "              connections=mp_face_mesh.FACEMESH_TESSELATION,\n",
    "              landmark_drawing_spec=None,\n",
    "              connection_drawing_spec=mp_drawing_styles\n",
    "              .get_default_face_mesh_tesselation_style())\n",
    "          mp_drawing.draw_landmarks(\n",
    "              image=image,\n",
    "              landmark_list=face_landmarks,\n",
    "              connections=mp_face_mesh.FACEMESH_CONTOURS,\n",
    "              landmark_drawing_spec=None,\n",
    "              connection_drawing_spec=mp_drawing_styles\n",
    "              .get_default_face_mesh_contours_style())\n",
    "          mp_drawing.draw_landmarks(\n",
    "              image=image,\n",
    "              landmark_list=face_landmarks,\n",
    "              connections=mp_face_mesh.FACEMESH_IRISES,\n",
    "              landmark_drawing_spec=None,\n",
    "              connection_drawing_spec=mp_drawing_styles\n",
    "              .get_default_face_mesh_iris_connections_style())\n",
    "      \n",
    "      cv2.imshow('MediaPipe Face Mesh', cv2.flip(image, 1))\n",
    "      if cv2.waitKey(5) & 0xFF == ord('q'):\n",
    "        break\n",
    "cap.release()\n",
    "cv2.destroyAllWindows()"
   ]
  },
  {
   "cell_type": "code",
   "execution_count": 72,
   "metadata": {},
   "outputs": [
    {
     "name": "stderr",
     "output_type": "stream",
     "text": [
      "C:\\Users\\bhard\\AppData\\Roaming\\Python\\Python39\\site-packages\\google\\protobuf\\symbol_database.py:55: UserWarning: SymbolDatabase.GetPrototype() is deprecated. Please use message_factory.GetMessageClass() instead. SymbolDatabase.GetPrototype() will be removed soon.\n",
      "  warnings.warn('SymbolDatabase.GetPrototype() is deprecated. Please '\n"
     ]
    }
   ],
   "source": [
    "face_mesh_algo= mp_face_mesh.FaceMesh(\n",
    "    max_num_faces=1,\n",
    "    refine_landmarks=True,\n",
    "    min_detection_confidence=0.5,\n",
    "    min_tracking_confidence=0.5)\n",
    "\n",
    "\n",
    "\n",
    "image = cv2.imread(img_source)\n",
    "image.flags.writeable = False\n",
    "image_src_gray = cv2.cvtColor(image, cv2.COLOR_BGR2RGB)\n",
    "results = face_mesh_algo.process(image_src_gray)\n",
    "\n",
    "src_face_landmark = results.multi_face_landmarks[0].landmark\n",
    "landmark_points_src = [(int(lm.x * image.shape[1]), int(lm.y * image.shape[0])) for lm in src_face_landmark]\n",
    "        \n"
   ]
  },
  {
   "cell_type": "code",
   "execution_count": 74,
   "metadata": {},
   "outputs": [],
   "source": [
    "# print(landmark_points)\n",
    "np_landmarks_points_src = np.array(landmark_points_src, dtype= np.int32)"
   ]
  },
  {
   "cell_type": "code",
   "execution_count": 76,
   "metadata": {},
   "outputs": [],
   "source": [
    "img_gray= cv2.cvtColor(image,cv2.COLOR_BGR2GRAY)\n",
    "mask = np.zeros_like(img_gray)"
   ]
  },
  {
   "cell_type": "code",
   "execution_count": 75,
   "metadata": {},
   "outputs": [
    {
     "name": "stdout",
     "output_type": "stream",
     "text": [
      "[827 590]\n"
     ]
    }
   ],
   "source": [
    "\n",
    "\n",
    "convex_hull_points_src = cv2.convexHull(np_landmarks_points_src, returnPoints=True)\n",
    "print(convex_hull_points_src[1][0])"
   ]
  },
  {
   "cell_type": "code",
   "execution_count": 77,
   "metadata": {},
   "outputs": [
    {
     "data": {
      "text/plain": [
       "array([[0, 0, 0, ..., 0, 0, 0],\n",
       "       [0, 0, 0, ..., 0, 0, 0],\n",
       "       [0, 0, 0, ..., 0, 0, 0],\n",
       "       ...,\n",
       "       [0, 0, 0, ..., 0, 0, 0],\n",
       "       [0, 0, 0, ..., 0, 0, 0],\n",
       "       [0, 0, 0, ..., 0, 0, 0]], dtype=uint8)"
      ]
     },
     "execution_count": 77,
     "metadata": {},
     "output_type": "execute_result"
    }
   ],
   "source": [
    "cv2.fillConvexPoly(mask, convex_hull_points_src, 255)"
   ]
  },
  {
   "cell_type": "code",
   "execution_count": 80,
   "metadata": {},
   "outputs": [],
   "source": [
    "face_image_1 = cv2.bitwise_and(image, image, mask=mask)\n",
    "cv2.imshow(\"Image 1\", image)\n",
    "cv2.imshow(\"Face image 1\", face_image_1)\n",
    "cv2.imshow(\"Mask\", mask)\n",
    "cv2.waitKey(0)\n",
    "cv2.destroyAllWindows()"
   ]
  },
  {
   "cell_type": "code",
   "execution_count": 85,
   "metadata": {},
   "outputs": [],
   "source": [
    "def get_face_landmarks(image):\n",
    "    face_mesh_algo= mp_face_mesh.FaceMesh(\n",
    "    max_num_faces=1,\n",
    "    refine_landmarks=True,\n",
    "    min_detection_confidence=0.5,\n",
    "    min_tracking_confidence=0.5)\n",
    "\n",
    "\n",
    "\n",
    "    # image = cv2.imread(img)\n",
    "    image.flags.writeable = False\n",
    "    image_src_gray = cv2.cvtColor(image, cv2.COLOR_BGR2RGB)\n",
    "    results = face_mesh_algo.process(image_src_gray)\n",
    "\n",
    "    face_landmark = results.multi_face_landmarks[0].landmark\n",
    "    landmark_points = [(int(lm.x * image.shape[1]), int(lm.y * image.shape[0])) for lm in face_landmark]\n",
    "    \n",
    "    \n",
    "    return landmark_points"
   ]
  },
  {
   "cell_type": "code",
   "execution_count": 81,
   "metadata": {},
   "outputs": [],
   "source": [
    "img = cv2.imread(\"elon_musk_royal_society.jpg\")\n",
    "img_gray = cv2.cvtColor(img, cv2.COLOR_BGR2GRAY)\n",
    "img2 = cv2.imread(\"business-person.png\")\n",
    "img2_gray = cv2.cvtColor(img2, cv2.COLOR_BGR2GRAY)"
   ]
  },
  {
   "cell_type": "code",
   "execution_count": 86,
   "metadata": {},
   "outputs": [
    {
     "name": "stderr",
     "output_type": "stream",
     "text": [
      "C:\\Users\\bhard\\AppData\\Roaming\\Python\\Python39\\site-packages\\google\\protobuf\\symbol_database.py:55: UserWarning: SymbolDatabase.GetPrototype() is deprecated. Please use message_factory.GetMessageClass() instead. SymbolDatabase.GetPrototype() will be removed soon.\n",
      "  warnings.warn('SymbolDatabase.GetPrototype() is deprecated. Please '\n"
     ]
    }
   ],
   "source": [
    "landmarks_points = get_face_landmarks(img)"
   ]
  },
  {
   "cell_type": "code",
   "execution_count": 88,
   "metadata": {},
   "outputs": [],
   "source": [
    "rect = cv2.boundingRect(convex_hull_points_src)\n",
    "subdiv = cv2.Subdiv2D(rect)\n",
    "subdiv.insert(landmarks_points)\n",
    "triangles = subdiv.getTriangleList()\n",
    "triangles = np.array(triangles, dtype=np.int32)"
   ]
  },
  {
   "cell_type": "code",
   "execution_count": 89,
   "metadata": {},
   "outputs": [],
   "source": [
    "def extract_index_nparray(nparray):\n",
    "    return nparray[0][0] if nparray[0].size > 0 else None"
   ]
  },
  {
   "cell_type": "code",
   "execution_count": 93,
   "metadata": {},
   "outputs": [],
   "source": [
    "points = np.array(landmarks_points)"
   ]
  },
  {
   "cell_type": "code",
   "execution_count": 94,
   "metadata": {},
   "outputs": [],
   "source": [
    "indexes_triangles = []\n",
    "for t in triangles:\n",
    "    pt1 = (t[0], t[1])\n",
    "    pt2 = (t[2], t[3])\n",
    "    pt3 = (t[4], t[5])\n",
    "    index_pt1 = np.where((points == pt1).all(axis=1))\n",
    "    index_pt1 = extract_index_nparray(index_pt1)\n",
    "    index_pt2 = np.where((points == pt2).all(axis=1))\n",
    "    index_pt2 = extract_index_nparray(index_pt2)\n",
    "    index_pt3 = np.where((points == pt3).all(axis=1))\n",
    "    index_pt3 = extract_index_nparray(index_pt3)\n",
    "    if index_pt1 is not None and index_pt2 is not None and index_pt3 is not None:\n",
    "        triangle = [index_pt1, index_pt2, index_pt3]\n",
    "        indexes_triangles.append(triangle)"
   ]
  },
  {
   "cell_type": "code",
   "execution_count": 96,
   "metadata": {},
   "outputs": [
    {
     "name": "stderr",
     "output_type": "stream",
     "text": [
      "C:\\Users\\bhard\\AppData\\Roaming\\Python\\Python39\\site-packages\\google\\protobuf\\symbol_database.py:55: UserWarning: SymbolDatabase.GetPrototype() is deprecated. Please use message_factory.GetMessageClass() instead. SymbolDatabase.GetPrototype() will be removed soon.\n",
      "  warnings.warn('SymbolDatabase.GetPrototype() is deprecated. Please '\n"
     ]
    }
   ],
   "source": [
    "landmarks_points2 = get_face_landmarks(img2)"
   ]
  },
  {
   "cell_type": "code",
   "execution_count": 97,
   "metadata": {},
   "outputs": [],
   "source": [
    "for triangle_index in indexes_triangles:\n",
    "    # Triangulation of the Second face\n",
    "    tr1_pt1 = landmarks_points2[triangle_index[0]]\n",
    "    tr1_pt2 = landmarks_points2[triangle_index[1]]\n",
    "    tr1_pt3 = landmarks_points2[triangle_index[2]]\n",
    "    triangle2 = np.array([tr1_pt1, tr1_pt2, tr1_pt3], np.int32)"
   ]
  },
  {
   "cell_type": "code",
   "execution_count": 98,
   "metadata": {},
   "outputs": [],
   "source": [
    "points2 = np.array(landmarks_points2)"
   ]
  },
  {
   "cell_type": "code",
   "execution_count": 99,
   "metadata": {},
   "outputs": [],
   "source": [
    "def triangulation(triangle_index, landmark_points, img=None):\n",
    "    tr1_pt1 = landmark_points[triangle_index[0]]\n",
    "    tr1_pt2 = landmark_points[triangle_index[1]]\n",
    "    tr1_pt3 = landmark_points[triangle_index[2]]\n",
    "    triangle = np.array([tr1_pt1, tr1_pt2, tr1_pt3], np.int32)\n",
    "\n",
    "    rect = cv2.boundingRect(triangle)\n",
    "    (x, y, w, h) = rect\n",
    "\n",
    "    cropped_triangle = None\n",
    "    if img is not None:\n",
    "        cropped_triangle = img[y: y + h, x: x + w]\n",
    "\n",
    "    cropped_triangle_mask = np.zeros((h, w), np.uint8)\n",
    "\n",
    "    points = np.array([[tr1_pt1[0] - x, tr1_pt1[1] - y],\n",
    "                       [tr1_pt2[0] - x, tr1_pt2[1] - y],\n",
    "                       [tr1_pt3[0] - x, tr1_pt3[1] - y]], np.int32)\n",
    "\n",
    "    cv2.fillConvexPoly(cropped_triangle_mask, points, 255)\n",
    "\n",
    "    return points, cropped_triangle, cropped_triangle_mask, rect"
   ]
  },
  {
   "cell_type": "code",
   "execution_count": null,
   "metadata": {},
   "outputs": [],
   "source": [
    "points = np.float32(points)\n",
    "points2 = np.float32(points2)\n",
    "M = cv2.getAffineTransform(points, points2)\n",
    "warped_triangle = cv2.warpAffine(cropped_triangle, M, (w, h))\n",
    "warped_triangle = cv2.bitwise_and(warped_triangle, warped_triangle, mask=cropped_tr2_mask)"
   ]
  },
  {
   "cell_type": "code",
   "execution_count": null,
   "metadata": {},
   "outputs": [],
   "source": [
    "for triangle_index in indexes_triangles:\n",
    "        points, src_cropped_triangle, cropped_triangle_mask, _ = triangulation(\n",
    "            triangle_index=triangle_index,\n",
    "            landmark_points=landmarks_points,\n",
    "            img=img)\n",
    "\n",
    "        points2, _, dest_cropped_triangle_mask, rect = triangulation(triangle_index=triangle_index,\n",
    "                                                                     landmark_points=landmarks_points2)\n",
    "\n",
    "        warped_triangle = warp_triangle(rect=rect, points1=points, points2=points2,\n",
    "                                        src_cropped_triangle=src_cropped_triangle,\n",
    "                                        dest_cropped_triangle_mask=dest_cropped_triangle_mask)\n",
    "\n",
    "        add_piece_of_new_face(new_face=new_face, rect=rect, warped_triangle=warped_triangle)\n",
    "result = swap_new_face(dest_image=dest_image, dest_image_gray=dest_image_gray,\n",
    "                           dest_convexHull=dest_convexHull, new_face=new_face)\n",
    "\n",
    "result = cv2.medianBlur(result, 3)\n",
    "h, w, _ = src_image.shape\n",
    "rate = width / w"
   ]
  },
  {
   "cell_type": "code",
   "execution_count": null,
   "metadata": {},
   "outputs": [],
   "source": [
    "points = np.float32(points)\n",
    "points2 = np.float32(points2)\n",
    "M = cv2.getAffineTransform(points, points2)\n",
    "warped_triangle = cv2.warpAffine(cropped_triangle, M, (w, h))\n",
    "warped_triangle = cv2.bitwise_and(warped_triangle, warped_triangle, mask=cropped_tr2_mask)"
   ]
  },
  {
   "cell_type": "code",
   "execution_count": null,
   "metadata": {},
   "outputs": [],
   "source": []
  },
  {
   "cell_type": "markdown",
   "metadata": {},
   "source": [
    "=================================================================================\n"
   ]
  },
  {
   "cell_type": "code",
   "execution_count": 58,
   "metadata": {},
   "outputs": [],
   "source": [
    "def rect_contains(rect, point) :\n",
    "    if point[0] < rect[0] :\n",
    "        return False\n",
    "    elif point[1] < rect[1] :\n",
    "        return False\n",
    "    elif point[0] > rect[2] :\n",
    "        return False\n",
    "    elif point[1] > rect[3] :\n",
    "        return False\n",
    "    return True"
   ]
  },
  {
   "cell_type": "code",
   "execution_count": 59,
   "metadata": {},
   "outputs": [],
   "source": [
    "# Draw a point\n",
    "def draw_point(img, p, color ) :\n",
    "    cv2.circle( img, p, 2, color, cv2.cv.CV_FILLED, cv2.CV_AA, 0 )"
   ]
  },
  {
   "cell_type": "code",
   "execution_count": 66,
   "metadata": {},
   "outputs": [],
   "source": [
    "def draw_delaunay(img, subdiv, delaunay_color):\n",
    "    triangleList = subdiv.getTriangleList()\n",
    "    size = img.shape\n",
    "    r = (0, 0, size[1], size[0])\n",
    "    \n",
    "    for t in triangleList:\n",
    "        pt1 = (int(t[0]), int(t[1]))\n",
    "        pt2 = (int(t[2]), int(t[3]))\n",
    "        pt3 = (int(t[4]), int(t[5]))\n",
    "\n",
    "        if rect_contains(r, pt1) and rect_contains(r, pt2) and rect_contains(r, pt3):\n",
    "            cv2.line(img, pt1, pt2, delaunay_color, 1, cv2.LINE_AA, 0)\n",
    "            cv2.line(img, pt2, pt3, delaunay_color, 1, cv2.LINE_AA, 0)\n",
    "            cv2.line(img, pt3, pt1, delaunay_color, 1, cv2.LINE_AA, 0)"
   ]
  },
  {
   "cell_type": "code",
   "execution_count": 41,
   "metadata": {},
   "outputs": [],
   "source": [
    "win_delaunay = \"Delaunay Triangulation\"\n",
    "animate=True\n",
    "delaunay_color = (255,255,255)\n",
    "points_color = (0, 0, 255)\n",
    "img_orig = image.copy()"
   ]
  },
  {
   "cell_type": "code",
   "execution_count": null,
   "metadata": {},
   "outputs": [],
   "source": [
    "def "
   ]
  },
  {
   "cell_type": "code",
   "execution_count": 62,
   "metadata": {},
   "outputs": [],
   "source": [
    "size = image.shape\n",
    "rect = (0, 0, size[1], size[0])"
   ]
  },
  {
   "cell_type": "code",
   "execution_count": 63,
   "metadata": {},
   "outputs": [],
   "source": [
    "subdiv = cv2.Subdiv2D(rect)"
   ]
  },
  {
   "cell_type": "code",
   "execution_count": 40,
   "metadata": {},
   "outputs": [],
   "source": [
    "# for p in convex_hull_points:\n",
    "#     print(p[0])"
   ]
  },
  {
   "cell_type": "code",
   "execution_count": null,
   "metadata": {},
   "outputs": [],
   "source": []
  },
  {
   "cell_type": "code",
   "execution_count": 71,
   "metadata": {},
   "outputs": [],
   "source": [
    "for p in convex_hull_points :\n",
    "    \n",
    "    points = (int(p[0][0]),int(p[0][1]))\n",
    "    subdiv.insert(points)\n",
    " \n",
    "        # Show animation\n",
    "    if animate :\n",
    "        img_copy = img_orig.copy()\n",
    "            # Draw delaunay triangles\n",
    "        draw_delaunay( img_copy, subdiv, (255, 255, 0) )\n",
    "        cv2.imshow(win_delaunay, img_copy)\n",
    "        k = cv2.waitKey(1)\n",
    "        if k == ord('q'):\n",
    "            break \n",
    "            \n",
    "# cv2.destroyAllWindows()        \n",
    "        "
   ]
  },
  {
   "cell_type": "code",
   "execution_count": null,
   "metadata": {},
   "outputs": [],
   "source": [
    "cap = cv2.VideoCapture(0)\n",
    "\n",
    "\n",
    "\n",
    "with mp_face_mesh.FaceMesh(\n",
    "    max_num_faces=1,\n",
    "    refine_landmarks=True,\n",
    "    min_detection_confidence=0.5,\n",
    "    min_tracking_confidence=0.5) as face_mesh:\n",
    "\n",
    "\n",
    "    while cap.isOpened():\n",
    "        _ , frame = cap.read()\n",
    "        \n",
    "        \n",
    "    \n",
    "        frame.flags.writeable = False\n",
    "        frame = cv2.cvtColor(frame, cv2.COLOR_BGR2RGB)\n",
    "        results = face_mesh_algo.process(frame)\n",
    "\n",
    "        frame_face_landmarks = results.multi_face_landmarks[0].landmark\n",
    "        frame_landmark_points = [(int(lm.x * image.shape[1]), int(lm.y * image.shape[0])) for lm in src_face_landmark]\n",
    "        \n",
    "        \n",
    "        \n",
    "        \n",
    "        \n",
    "        \n",
    "        \n",
    "        \n",
    "        \n",
    "    \n",
    "    \n",
    "    "
   ]
  }
 ],
 "metadata": {
  "kernelspec": {
   "display_name": "base",
   "language": "python",
   "name": "python3"
  },
  "language_info": {
   "codemirror_mode": {
    "name": "ipython",
    "version": 3
   },
   "file_extension": ".py",
   "mimetype": "text/x-python",
   "name": "python",
   "nbconvert_exporter": "python",
   "pygments_lexer": "ipython3",
   "version": "3.9.13"
  }
 },
 "nbformat": 4,
 "nbformat_minor": 2
}
